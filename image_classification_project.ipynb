{
 "cells": [
  {
   "cell_type": "code",
   "execution_count": 42,
   "id": "9a6c5ad0",
   "metadata": {},
   "outputs": [],
   "source": [
    "#Importing libraries\n",
    "import numpy as np\n",
    "import pandas as pd\n",
    "from matplotlib import pyplot as plt\n",
    "from sklearn.ensemble import RandomForestClassifier\n",
    "from sklearn.model_selection import train_test_split\n",
    "%matplotlib inline"
   ]
  },
  {
   "cell_type": "code",
   "execution_count": 52,
   "id": "abe14432",
   "metadata": {},
   "outputs": [],
   "source": [
    "data= pd.read_csv('mnist_train.csv')\n"
   ]
  },
  {
   "cell_type": "code",
   "execution_count": 53,
   "id": "9db9346a",
   "metadata": {},
   "outputs": [
    {
     "data": {
      "text/plain": [
       "<bound method NDFrame.head of        5  0  0.1  0.2  0.3  0.4  0.5  0.6  0.7  0.8  ...  0.608  0.609  0.610  \\\n",
       "0      0  0    0    0    0    0    0    0    0    0  ...      0      0      0   \n",
       "1      4  0    0    0    0    0    0    0    0    0  ...      0      0      0   \n",
       "2      1  0    0    0    0    0    0    0    0    0  ...      0      0      0   \n",
       "3      9  0    0    0    0    0    0    0    0    0  ...      0      0      0   \n",
       "4      2  0    0    0    0    0    0    0    0    0  ...      0      0      0   \n",
       "...   .. ..  ...  ...  ...  ...  ...  ...  ...  ...  ...    ...    ...    ...   \n",
       "59994  8  0    0    0    0    0    0    0    0    0  ...      0      0      0   \n",
       "59995  3  0    0    0    0    0    0    0    0    0  ...      0      0      0   \n",
       "59996  5  0    0    0    0    0    0    0    0    0  ...      0      0      0   \n",
       "59997  6  0    0    0    0    0    0    0    0    0  ...      0      0      0   \n",
       "59998  8  0    0    0    0    0    0    0    0    0  ...      0      0      0   \n",
       "\n",
       "       0.611  0.612  0.613  0.614  0.615  0.616  0.617  \n",
       "0          0      0      0      0      0      0      0  \n",
       "1          0      0      0      0      0      0      0  \n",
       "2          0      0      0      0      0      0      0  \n",
       "3          0      0      0      0      0      0      0  \n",
       "4          0      0      0      0      0      0      0  \n",
       "...      ...    ...    ...    ...    ...    ...    ...  \n",
       "59994      0      0      0      0      0      0      0  \n",
       "59995      0      0      0      0      0      0      0  \n",
       "59996      0      0      0      0      0      0      0  \n",
       "59997      0      0      0      0      0      0      0  \n",
       "59998      0      0      0      0      0      0      0  \n",
       "\n",
       "[59999 rows x 785 columns]>"
      ]
     },
     "execution_count": 53,
     "metadata": {},
     "output_type": "execute_result"
    }
   ],
   "source": [
    "#viewing the data\n",
    "data.head"
   ]
  },
  {
   "cell_type": "code",
   "execution_count": 46,
   "id": "b88a1fa0",
   "metadata": {},
   "outputs": [],
   "source": [
    "#Extracting data from daraset and viewing them up close\n",
    "a = data.iloc[3,1:].values"
   ]
  },
  {
   "cell_type": "code",
   "execution_count": 55,
   "id": "7b0bd333",
   "metadata": {},
   "outputs": [
    {
     "data": {
      "text/plain": [
       "<matplotlib.image.AxesImage at 0x1c576e35910>"
      ]
     },
     "execution_count": 55,
     "metadata": {},
     "output_type": "execute_result"
    },
    {
     "data": {
      "image/png": "[encoded data removed]",
      "text/plain": [
       "<Figure size 432x288 with 1 Axes>"
      ]
     },
     "metadata": {
      "needs_background": "light"
     },
     "output_type": "display_data"
    }
   ],
   "source": [
    "#Reshaping the extracted data into a reasonable size\n",
    "a=a.reshape(28,28).astype('uint8')\n",
    "plt.imshow(a)"
   ]
  },
  {
   "cell_type": "code",
   "execution_count": 56,
   "id": "6edae6f8",
   "metadata": {},
   "outputs": [],
   "source": [
    "#preparing the data\n",
    "#separating labes and data values \n",
    "df_x=data.iloc[:,1:]\n",
    "df_y=data.iloc[:,0]"
   ]
  },
  {
   "cell_type": "code",
   "execution_count": 58,
   "id": "13eaceca",
   "metadata": {},
   "outputs": [],
   "source": [
    "#creating test and train sizes\n",
    "x_train,x_test,y_train,y_test=train_test_split(df_x,df_y,test_size=0.2,random_state=4)"
   ]
  },
  {
   "cell_type": "code",
   "execution_count": 59,
   "id": "1db2af0b",
   "metadata": {},
   "outputs": [
    {
     "data": {
      "text/plain": [
       "20379    7\n",
       "53031    4\n",
       "27005    6\n",
       "30510    3\n",
       "508      3\n",
       "Name: 5, dtype: int64"
      ]
     },
     "execution_count": 59,
     "metadata": {},
     "output_type": "execute_result"
    }
   ],
   "source": [
    "#check data\n",
    "y_train.head()"
   ]
  },
  {
   "cell_type": "code",
   "execution_count": 60,
   "id": "c3b776e9",
   "metadata": {},
   "outputs": [],
   "source": [
    "#Call rf classifier\n",
    "rf=RandomForestClassifier(n_estimators=100)\n"
   ]
  },
  {
   "cell_type": "code",
   "execution_count": 61,
   "id": "675959fb",
   "metadata": {},
   "outputs": [
    {
     "data": {
      "text/plain": [
       "RandomForestClassifier()"
      ]
     },
     "execution_count": 61,
     "metadata": {},
     "output_type": "execute_result"
    }
   ],
   "source": [
    "#Fit the model\n",
    "rf.fit(x_train,y_train)"
   ]
  },
  {
   "cell_type": "code",
   "execution_count": 62,
   "id": "d938e8e2",
   "metadata": {},
   "outputs": [],
   "source": [
    "#Prediction on test data\n",
    "pred=rf.predict(x_test)"
   ]
  },
  {
   "cell_type": "code",
   "execution_count": 63,
   "id": "a872f14a",
   "metadata": {},
   "outputs": [
    {
     "data": {
      "text/plain": [
       "array([0, 1, 6, ..., 1, 8, 6], dtype=int64)"
      ]
     },
     "execution_count": 63,
     "metadata": {},
     "output_type": "execute_result"
    }
   ],
   "source": [
    "pred"
   ]
  },
  {
   "cell_type": "code",
   "execution_count": 64,
   "id": "f3e9564b",
   "metadata": {},
   "outputs": [],
   "source": [
    "#Check prediction accuracy\n",
    "s=y_test.values\n",
    "#Calculate the number of correctly predicted values\n",
    "count=0\n",
    "for i in range(len(pred)):\n",
    "    if pred[i]== s[i]:\n",
    "        count=count+1"
   ]
  },
  {
   "cell_type": "code",
   "execution_count": 65,
   "id": "cda40509",
   "metadata": {},
   "outputs": [
    {
     "data": {
      "text/plain": [
       "11587"
      ]
     },
     "execution_count": 65,
     "metadata": {},
     "output_type": "execute_result"
    }
   ],
   "source": [
    "count"
   ]
  },
  {
   "cell_type": "code",
   "execution_count": 66,
   "id": "ebe9c519",
   "metadata": {},
   "outputs": [
    {
     "data": {
      "text/plain": [
       "12000"
      ]
     },
     "execution_count": 66,
     "metadata": {},
     "output_type": "execute_result"
    }
   ],
   "source": [
    "#Total value that the prediction code was run on\n",
    "len(pred)"
   ]
  },
  {
   "cell_type": "code",
   "execution_count": 67,
   "id": "7ac75f6a",
   "metadata": {},
   "outputs": [
    {
     "data": {
      "text/plain": [
       "0.9655833333333333"
      ]
     },
     "execution_count": 67,
     "metadata": {},
     "output_type": "execute_result"
    }
   ],
   "source": [
    "#Accuracy value\n",
    "11587/12000"
   ]
  },
  {
   "cell_type": "code",
   "execution_count": null,
   "id": "5af7a071",
   "metadata": {},
   "outputs": [],
   "source": []
  }
 ],
 "metadata": {
  "kernelspec": {
   "display_name": "Python 3 (ipykernel)",
   "language": "python",
   "name": "python3"
  },
  "language_info": {
   "codemirror_mode": {
    "name": "ipython",
    "version": 3
   },
   "file_extension": ".py",
   "mimetype": "text/x-python",
   "name": "python",
   "nbconvert_exporter": "python",
   "pygments_lexer": "ipython3",
   "version": "3.9.7"
  }
 },
 "nbformat": 4,
 "nbformat_minor": 5
}
